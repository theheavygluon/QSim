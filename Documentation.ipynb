{
 "cells": [
  {
   "cell_type": "markdown",
   "metadata": {},
   "source": [
    "# The QSim Library:\n",
    "\n",
    "QSim is a library that attempts to allow one to perform a few basic quantum circuit simulation related operations. Find the code on QSim.py"
   ]
  },
  {
   "cell_type": "code",
   "execution_count": 1,
   "metadata": {},
   "outputs": [],
   "source": [
    "from QSim import *"
   ]
  },
  {
   "cell_type": "markdown",
   "metadata": {},
   "source": [
    "## Quantum Gates\n",
    "\n",
    "QSim has many gates and functions predefined into it. The following are a few examples:"
   ]
  },
  {
   "cell_type": "code",
   "execution_count": 2,
   "metadata": {},
   "outputs": [
    {
     "name": "stdout",
     "output_type": "stream",
     "text": [
      "Hadamard:\n",
      " [[ 0.70710678  0.70710678]\n",
      " [ 0.70710678 -0.70710678]]\n",
      "\n",
      "NOT:\n",
      " [[0 1]\n",
      " [1 0]]\n",
      "\n",
      "CNOT:\n",
      " [[1 0 0 0]\n",
      " [0 1 0 0]\n",
      " [0 0 0 1]\n",
      " [0 0 1 0]]\n",
      "\n",
      "Identity:\n",
      "[[1. 0.]\n",
      " [0. 1.]]\n",
      "\n",
      "|0>:\n",
      "[[1]\n",
      " [0]]\n",
      "\n",
      "|1>:\n",
      "[[0]\n",
      " [1]]\n",
      "\n",
      "Bell of 11:\n",
      "[[ 0.        ]\n",
      " [-0.70710678]\n",
      " [ 0.70710678]\n",
      " [ 0.        ]]\n",
      "\n",
      "Rx of pi:\n",
      "[[6.123234e-17+0.j 0.000000e+00-1.j]\n",
      " [0.000000e+00-1.j 6.123234e-17+0.j]]\n",
      "\n"
     ]
    }
   ],
   "source": [
    "print(\"Hadamard:\\n \"+ str(H)+ '\\n')\n",
    "print(\"NOT:\\n \" + str(X)+ '\\n')\n",
    "print(\"CNOT:\\n \" + str(CNOT)+ '\\n')\n",
    "print(\"Identity:\\n\" + str(I)+ '\\n')\n",
    "print(\"|0>:\\n\" + str(zero)+ '\\n')\n",
    "print(\"|1>:\\n\" + str(one)+ '\\n')\n",
    "print(\"Bell of 11:\\n\" + str(B11)+ '\\n')\n",
    "print(\"Rx of pi:\\n\" + str(Rx(np.pi))+ '\\n')"
   ]
  },
  {
   "cell_type": "markdown",
   "metadata": {},
   "source": [
    "## Get the Ground State Statevector\n",
    "\n",
    "QSim has a function which gets the ground state statevector of an n-qubit circuit. It goes as follows:"
   ]
  },
  {
   "cell_type": "code",
   "execution_count": 3,
   "metadata": {},
   "outputs": [
    {
     "name": "stdout",
     "output_type": "stream",
     "text": [
      "[1 0 0 0 0 0 0 0]\n"
     ]
    },
    {
     "data": {
      "text/plain": [
       "(8,)"
      ]
     },
     "execution_count": 3,
     "metadata": {},
     "output_type": "execute_result"
    }
   ],
   "source": [
    "initial = get_ground_state(3)\n",
    "print(initial)\n",
    "initial.shape"
   ]
  },
  {
   "cell_type": "markdown",
   "metadata": {},
   "source": [
    "## Get operator\n",
    "\n",
    "Function that returns the matrix operator of a gate being acted on a target qubit in an n-qubit circuit. The number of dimensions are $2^n \\times 2^n$.\n",
    "\n",
    "This function is friendly to all 1 qubit gates and CNOT gates\n",
    "\n",
    "The following is an example of applying a Hadamard to the 0th qubit in a 2 qubit circuit:"
   ]
  },
  {
   "cell_type": "code",
   "execution_count": 4,
   "metadata": {},
   "outputs": [
    {
     "data": {
      "text/plain": [
       "array([[ 0.70710678,  0.        ,  0.70710678,  0.        ],\n",
       "       [ 0.        ,  0.70710678,  0.        ,  0.70710678],\n",
       "       [ 0.70710678,  0.        , -0.70710678, -0.        ],\n",
       "       [ 0.        ,  0.70710678, -0.        , -0.70710678]])"
      ]
     },
     "execution_count": 4,
     "metadata": {},
     "output_type": "execute_result"
    }
   ],
   "source": [
    "get_operator(2, H, 0)"
   ]
  },
  {
   "cell_type": "markdown",
   "metadata": {},
   "source": [
    "## View operator\n",
    " \n",
    "Returns the same as get_operator() but with clearer syntax"
   ]
  },
  {
   "cell_type": "code",
   "execution_count": 5,
   "metadata": {},
   "outputs": [
    {
     "data": {
      "text/latex": [
       "$\\displaystyle \\left[\\begin{matrix}0.707106781186547 & 0.0 & 0.707106781186547 & 0.0\\\\0.0 & 0.707106781186547 & 0.0 & 0.707106781186547\\\\0.707106781186547 & 0.0 & -0.707106781186547 & 0.0\\\\0.0 & 0.707106781186547 & 0.0 & -0.707106781186547\\end{matrix}\\right]$"
      ],
      "text/plain": [
       "Matrix([\n",
       "[0.707106781186547,               0.0,  0.707106781186547,                0.0],\n",
       "[              0.0, 0.707106781186547,                0.0,  0.707106781186547],\n",
       "[0.707106781186547,               0.0, -0.707106781186547,                0.0],\n",
       "[              0.0, 0.707106781186547,                0.0, -0.707106781186547]])"
      ]
     },
     "metadata": {},
     "output_type": "display_data"
    }
   ],
   "source": [
    "def view_operator(a,b,c):\n",
    "    mat = get_operator(a,b,c)\n",
    "    return display(Matrix(mat))\n",
    "\n",
    "view_operator(2, H, 0)"
   ]
  },
  {
   "cell_type": "markdown",
   "metadata": {},
   "source": [
    "## Run circuit\n",
    "\n",
    "This is the function that actually runs the circuit and transforms an inital statevector to a final one. \n",
    "\n",
    "The syntax is run_program(initial, circuit)\n",
    "\n",
    "where initial is a list of lenth $2^n$\n",
    "\n",
    "and circ is a list of dictionaries with syntax [{ \"gate\": gate_unitary, \"target\": target_qubit }, { \"gate\": gate_unitary, \"target\": target_qubit },...]\n",
    "\n",
    "The following is a hadamard being applied to the 0th qubit in a 1 qubit circuit:"
   ]
  },
  {
   "cell_type": "code",
   "execution_count": 6,
   "metadata": {},
   "outputs": [
    {
     "data": {
      "text/plain": [
       "array([0.70710678, 0.70710678])"
      ]
     },
     "execution_count": 6,
     "metadata": {},
     "output_type": "execute_result"
    }
   ],
   "source": [
    "run_program([1,0], [{ \"gate\": H, \"target\": 0 }])"
   ]
  },
  {
   "cell_type": "markdown",
   "metadata": {},
   "source": [
    "## Measure State\n",
    "\n",
    "This returns the probability of each possible state given a statevector. The following is an application of the circuit ran above:"
   ]
  },
  {
   "cell_type": "code",
   "execution_count": 7,
   "metadata": {},
   "outputs": [
    {
     "name": "stdout",
     "output_type": "stream",
     "text": [
      "0: 0.5\n",
      "1: 0.5\n",
      "10: 0\n",
      "11: 0\n"
     ]
    }
   ],
   "source": [
    "measure([0.70710678, 0.70710678, 0, 0])"
   ]
  },
  {
   "cell_type": "markdown",
   "metadata": {},
   "source": [
    "## Get Counts\n",
    "\n",
    "Uses weight random measurement to \"collapse the wavefunction\" n amount of times and gives the found probabilities in a list. The syntax is get_counts(state_vector, n_counts)\n",
    "The following is an example of the result of the same state_vector given in \"Measure state\" with 50 counts:\n"
   ]
  },
  {
   "cell_type": "code",
   "execution_count": 8,
   "metadata": {},
   "outputs": [
    {
     "data": {
      "text/plain": [
       "[0.52, 0.48, 0.0, 0.0]"
      ]
     },
     "execution_count": 8,
     "metadata": {},
     "output_type": "execute_result"
    }
   ],
   "source": [
    "get_counts([0.70710678, 0.70710678, 0, 0],50)"
   ]
  },
  {
   "cell_type": "markdown",
   "metadata": {},
   "source": [
    "## Example: Demonstrating Quantum Enganglement with QSim\n",
    "\n",
    "The following is a program which utilizes QSim to simulate the $| \\phi^+ \\rangle$ Bell State. This is a 2-qubit circuit with a Hadamard on q0 and a CNOT on q0,q1. The output should suggest entanglement"
   ]
  },
  {
   "cell_type": "code",
   "execution_count": 9,
   "metadata": {},
   "outputs": [
    {
     "name": "stdout",
     "output_type": "stream",
     "text": [
      " Phi+ Statevector: \n"
     ]
    },
    {
     "data": {
      "text/latex": [
       "$\\displaystyle \\left[\\begin{matrix}0.707106781186547\\\\0.0\\\\0.0\\\\0.707106781186547\\end{matrix}\\right]$"
      ],
      "text/plain": [
       "Matrix([\n",
       "[0.707106781186547],\n",
       "[              0.0],\n",
       "[              0.0],\n",
       "[0.707106781186547]])"
      ]
     },
     "metadata": {},
     "output_type": "display_data"
    },
    {
     "name": "stdout",
     "output_type": "stream",
     "text": [
      "\n",
      "\n",
      "Probabilities: \n",
      "0: 0.5\n",
      "1: 0.0\n",
      "10: 0.0\n",
      "11: 0.5\n",
      "\n",
      "\n",
      "Results over 1024 count iterations: \n"
     ]
    },
    {
     "data": {
      "text/plain": [
       "[0.5263671875, 0.0, 0.0, 0.4736328125]"
      ]
     },
     "execution_count": 9,
     "metadata": {},
     "output_type": "execute_result"
    }
   ],
   "source": [
    "n_qubits = 2\n",
    "\n",
    "ground_state = get_ground_state(n_qubits)\n",
    "\n",
    "circ = [{ \"gate\": H, \"target\": 0 },{ \"gate\": CNOT, \"target\": [0,1]}]\n",
    "\n",
    "statevector = run_program(ground_state, circ)\n",
    "\n",
    "print(' Phi+ Statevector: ')\n",
    "view(statevector)\n",
    "print('\\n')\n",
    "print('Probabilities: ')\n",
    "measure(statevector)\n",
    "print('\\n')\n",
    "print('Results over 1024 count iterations: ')\n",
    "\n",
    "get_counts(statevector, 1024)"
   ]
  },
  {
   "cell_type": "code",
   "execution_count": null,
   "metadata": {},
   "outputs": [],
   "source": []
  }
 ],
 "metadata": {
  "kernelspec": {
   "display_name": "Python 3",
   "language": "python",
   "name": "python3"
  },
  "language_info": {
   "codemirror_mode": {
    "name": "ipython",
    "version": 3
   },
   "file_extension": ".py",
   "mimetype": "text/x-python",
   "name": "python",
   "nbconvert_exporter": "python",
   "pygments_lexer": "ipython3",
   "version": "3.8.5"
  }
 },
 "nbformat": 4,
 "nbformat_minor": 4
}
